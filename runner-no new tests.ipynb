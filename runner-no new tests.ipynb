{
 "cells": [
  {
   "cell_type": "code",
   "execution_count": 1,
   "metadata": {},
   "outputs": [],
   "source": [
    "import numpy as np\n",
    "import PBVI\n",
    "import sis\n",
    "\n",
    "N=2 #the size of the population\n",
    "T=5  #the length of the time horizon\n",
    "n=20 #the number of belief points for PBVI\n",
    "lam=0.01  #transimission rate\n",
    "gam=0.011  #recovery rate \n",
    "k=0    #the poisson rate of the new tests' arrival\n",
    "#transition probability matrix for infected population\n",
    "\n",
    "##print(New_tests)\n",
    "\n",
    "trans=np.zeros((N+1,N+1))\n",
    "trans[0][0]=1\n",
    "trans[N][N-1]=gam*N\n",
    "trans[N][N]=1-trans[N][N-1]\n",
    "for i in range(1,N):\n",
    "    trans[i][i+1]=lam*i*(N-i)\n",
    "    trans[i][i-1]=gam*i\n",
    "    trans[i][i]=1-trans[i][i+1]-trans[i][i-1]\n",
    "#print(T)\n",
    "\n",
    "\n",
    "B=[]\n",
    "\n",
    "for i in range(n):\n",
    "    b=np.random.random(N+1)\n",
    "    b=b/np.sum(b)\n",
    "    B.append(b)\n"
   ]
  },
  {
   "cell_type": "code",
   "execution_count": 2,
   "metadata": {},
   "outputs": [],
   "source": [
    "Sis=sis.SIS(N,trans)\n",
    "rho_pbvi=PBVI.PBVI(Sis,test_arrival_rate=k)\n",
    "rho_pbvi.add_configs(B)"
   ]
  },
  {
   "cell_type": "code",
   "execution_count": null,
   "metadata": {
    "scrolled": true
   },
   "outputs": [
    {
     "name": "stdout",
     "output_type": "stream",
     "text": [
      "step: 0\n"
     ]
    }
   ],
   "source": [
    "rho_pbvi.solve(T)"
   ]
  },
  {
   "cell_type": "code",
   "execution_count": null,
   "metadata": {},
   "outputs": [],
   "source": [
    "b1=np.ones(N+1)/(N+1)\n",
    "rho_pbvi.get_action(b1,2)"
   ]
  },
  {
   "cell_type": "code",
   "execution_count": null,
   "metadata": {},
   "outputs": [],
   "source": []
  },
  {
   "cell_type": "code",
   "execution_count": null,
   "metadata": {},
   "outputs": [],
   "source": []
  },
  {
   "cell_type": "code",
   "execution_count": null,
   "metadata": {},
   "outputs": [],
   "source": []
  },
  {
   "cell_type": "code",
   "execution_count": null,
   "metadata": {},
   "outputs": [],
   "source": []
  },
  {
   "cell_type": "code",
   "execution_count": null,
   "metadata": {},
   "outputs": [],
   "source": []
  },
  {
   "cell_type": "code",
   "execution_count": null,
   "metadata": {},
   "outputs": [],
   "source": []
  },
  {
   "cell_type": "code",
   "execution_count": null,
   "metadata": {},
   "outputs": [],
   "source": []
  },
  {
   "cell_type": "code",
   "execution_count": null,
   "metadata": {},
   "outputs": [],
   "source": []
  },
  {
   "cell_type": "code",
   "execution_count": null,
   "metadata": {},
   "outputs": [],
   "source": []
  },
  {
   "cell_type": "code",
   "execution_count": null,
   "metadata": {},
   "outputs": [],
   "source": []
  },
  {
   "cell_type": "code",
   "execution_count": null,
   "metadata": {},
   "outputs": [],
   "source": []
  }
 ],
 "metadata": {
  "kernelspec": {
   "display_name": "Python 3 (ipykernel)",
   "language": "python",
   "name": "python3"
  },
  "language_info": {
   "codemirror_mode": {
    "name": "ipython",
    "version": 3
   },
   "file_extension": ".py",
   "mimetype": "text/x-python",
   "name": "python",
   "nbconvert_exporter": "python",
   "pygments_lexer": "ipython3",
   "version": "3.9.7"
  }
 },
 "nbformat": 4,
 "nbformat_minor": 2
}
